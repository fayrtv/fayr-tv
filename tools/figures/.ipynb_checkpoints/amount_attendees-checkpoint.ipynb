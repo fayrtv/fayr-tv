{
 "cells": [
  {
   "cell_type": "code",
   "execution_count": 14,
   "metadata": {},
   "outputs": [],
   "source": [
    "import pandas as pd"
   ]
  },
  {
   "cell_type": "code",
   "execution_count": 15,
   "metadata": {},
   "outputs": [],
   "source": [
    "df = pd.read_csv('results.csv')"
   ]
  },
  {
   "cell_type": "code",
   "execution_count": 16,
   "metadata": {},
   "outputs": [
    {
     "name": "stdout",
     "output_type": "stream",
     "text": [
      "                                         AttendeeId      Name         TTL\n",
      "0     ad05ecdh/4b6a4c79-1ee4-66c7-c0dd-1f2082125cdf  OneShoot  1621671573\n",
      "1     0hhozrnk/7bed34fd-fbe9-7f6b-fbaf-8b47f429fa54     Laura  1621433184\n",
      "2     3ptqaob4/84e69213-4bf1-b774-f344-12a533f1de9d         d  1637434047\n",
      "3     borussia/7a189c56-efb2-2405-78ca-9d510330d45d      Niki  1614800991\n",
      "4     bsfaur2h/75a0f590-708b-1e37-a616-c57289fd679f       Ute  1621800026\n",
      "...                                             ...       ...         ...\n",
      "1585  ijhjgeqv/801bec23-b476-5842-9a16-64dc84246939       Eva  1621692793\n",
      "1586  uszjyksv/f8700a34-47a0-1feb-57f2-d278a3c27c7b       Tin  1636624568\n",
      "1587  6ttiklt8/f44f8620-c60a-4160-3ead-7997edbf0d74     Chris  1626774876\n",
      "1588  7prk4zm2/928a3f2e-d6bf-df4c-4575-152ba30b3749      Norb  1621764917\n",
      "1589      test/8cb323be-4b4a-4884-1a83-345465cc94af       Tin  1608303655\n",
      "\n",
      "[1590 rows x 3 columns]\n"
     ]
    }
   ],
   "source": [
    "print(df)"
   ]
  },
  {
   "cell_type": "code",
   "execution_count": 17,
   "metadata": {},
   "outputs": [],
   "source": [
    "df_tin_cleaned = df[df.Name != 'Tin']"
   ]
  },
  {
   "cell_type": "code",
   "execution_count": 18,
   "metadata": {},
   "outputs": [],
   "source": [
    "df_Niki_cleaned = df_tin_cleaned[df_tin_cleaned.Name != 'Niki']"
   ]
  },
  {
   "cell_type": "code",
   "execution_count": 19,
   "metadata": {},
   "outputs": [
    {
     "name": "stdout",
     "output_type": "stream",
     "text": [
      "                                         AttendeeId      Name         TTL\n",
      "0     ad05ecdh/4b6a4c79-1ee4-66c7-c0dd-1f2082125cdf  OneShoot  1621671573\n",
      "1     0hhozrnk/7bed34fd-fbe9-7f6b-fbaf-8b47f429fa54     Laura  1621433184\n",
      "2     3ptqaob4/84e69213-4bf1-b774-f344-12a533f1de9d         d  1637434047\n",
      "4     bsfaur2h/75a0f590-708b-1e37-a616-c57289fd679f       Ute  1621800026\n",
      "5     yod0bgpl/e348f459-2e55-74b2-a161-fc2f4481f7ef      niki  1637251640\n",
      "...                                             ...       ...         ...\n",
      "1582  cafhaovr/a401792d-cf26-9ed3-e1f1-eeeb58ce971d    547z54  1633951363\n",
      "1583      test/b25e01a1-d7b0-cedd-5c3d-2d751a8ad925   Norbert  1635368069\n",
      "1585  ijhjgeqv/801bec23-b476-5842-9a16-64dc84246939       Eva  1621692793\n",
      "1587  6ttiklt8/f44f8620-c60a-4160-3ead-7997edbf0d74     Chris  1626774876\n",
      "1588  7prk4zm2/928a3f2e-d6bf-df4c-4575-152ba30b3749      Norb  1621764917\n",
      "\n",
      "[1141 rows x 3 columns]\n"
     ]
    }
   ],
   "source": [
    "print(df_Niki_cleaned)"
   ]
  },
  {
   "cell_type": "code",
   "execution_count": 20,
   "metadata": {},
   "outputs": [],
   "source": [
    "df_niki_cleaned = df_Niki_cleaned[df_Niki_cleaned.Name != 'niki']"
   ]
  },
  {
   "cell_type": "code",
   "execution_count": 21,
   "metadata": {},
   "outputs": [
    {
     "name": "stdout",
     "output_type": "stream",
     "text": [
      "                                         AttendeeId      Name         TTL\n",
      "0     ad05ecdh/4b6a4c79-1ee4-66c7-c0dd-1f2082125cdf  OneShoot  1621671573\n",
      "1     0hhozrnk/7bed34fd-fbe9-7f6b-fbaf-8b47f429fa54     Laura  1621433184\n",
      "2     3ptqaob4/84e69213-4bf1-b774-f344-12a533f1de9d         d  1637434047\n",
      "4     bsfaur2h/75a0f590-708b-1e37-a616-c57289fd679f       Ute  1621800026\n",
      "6     usmks61x/7f8ae4e8-efd2-7b0d-5cf5-ace8eadb8a4a       ana  1624018859\n",
      "...                                             ...       ...         ...\n",
      "1582  cafhaovr/a401792d-cf26-9ed3-e1f1-eeeb58ce971d    547z54  1633951363\n",
      "1583      test/b25e01a1-d7b0-cedd-5c3d-2d751a8ad925   Norbert  1635368069\n",
      "1585  ijhjgeqv/801bec23-b476-5842-9a16-64dc84246939       Eva  1621692793\n",
      "1587  6ttiklt8/f44f8620-c60a-4160-3ead-7997edbf0d74     Chris  1626774876\n",
      "1588  7prk4zm2/928a3f2e-d6bf-df4c-4575-152ba30b3749      Norb  1621764917\n",
      "\n",
      "[1118 rows x 3 columns]\n"
     ]
    }
   ],
   "source": [
    "print(df_niki_cleaned)"
   ]
  },
  {
   "cell_type": "code",
   "execution_count": 22,
   "metadata": {},
   "outputs": [
    {
     "data": {
      "text/plain": [
       "test1234        44\n",
       "Norb            29\n",
       "asdfasdf        28\n",
       "2               26\n",
       "1               24\n",
       "                ..\n",
       "in               1\n",
       "qwtrwqr          1\n",
       "scahzr           1\n",
       "Holly, Karén     1\n",
       "Mirco            1\n",
       "Name: Name, Length: 481, dtype: int64"
      ]
     },
     "execution_count": 22,
     "metadata": {},
     "output_type": "execute_result"
    }
   ],
   "source": [
    "df_niki_cleaned[\"Name\"].value_counts()"
   ]
  },
  {
   "cell_type": "code",
   "execution_count": 23,
   "metadata": {},
   "outputs": [],
   "source": [
    "df_cleaned = df_niki_cleaned[df_niki_cleaned.Name != ('test1234', 'Norb', 'asdasdf', '1', '2')]"
   ]
  },
  {
   "cell_type": "code",
   "execution_count": 24,
   "metadata": {},
   "outputs": [
    {
     "name": "stdout",
     "output_type": "stream",
     "text": [
      "                                         AttendeeId      Name         TTL\n",
      "0     ad05ecdh/4b6a4c79-1ee4-66c7-c0dd-1f2082125cdf  OneShoot  1621671573\n",
      "1     0hhozrnk/7bed34fd-fbe9-7f6b-fbaf-8b47f429fa54     Laura  1621433184\n",
      "2     3ptqaob4/84e69213-4bf1-b774-f344-12a533f1de9d         d  1637434047\n",
      "4     bsfaur2h/75a0f590-708b-1e37-a616-c57289fd679f       Ute  1621800026\n",
      "6     usmks61x/7f8ae4e8-efd2-7b0d-5cf5-ace8eadb8a4a       ana  1624018859\n",
      "...                                             ...       ...         ...\n",
      "1582  cafhaovr/a401792d-cf26-9ed3-e1f1-eeeb58ce971d    547z54  1633951363\n",
      "1583      test/b25e01a1-d7b0-cedd-5c3d-2d751a8ad925   Norbert  1635368069\n",
      "1585  ijhjgeqv/801bec23-b476-5842-9a16-64dc84246939       Eva  1621692793\n",
      "1587  6ttiklt8/f44f8620-c60a-4160-3ead-7997edbf0d74     Chris  1626774876\n",
      "1588  7prk4zm2/928a3f2e-d6bf-df4c-4575-152ba30b3749      Norb  1621764917\n",
      "\n",
      "[1118 rows x 3 columns]\n"
     ]
    }
   ],
   "source": [
    "print(df_cleaned)"
   ]
  },
  {
   "cell_type": "code",
   "execution_count": null,
   "metadata": {},
   "outputs": [],
   "source": []
  }
 ],
 "metadata": {
  "kernelspec": {
   "display_name": "Python 3",
   "language": "python",
   "name": "python3"
  },
  "language_info": {
   "codemirror_mode": {
    "name": "ipython",
    "version": 3
   },
   "file_extension": ".py",
   "mimetype": "text/x-python",
   "name": "python",
   "nbconvert_exporter": "python",
   "pygments_lexer": "ipython3",
   "version": "3.8.13"
  }
 },
 "nbformat": 4,
 "nbformat_minor": 4
}
